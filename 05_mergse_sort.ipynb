{
 "cells": [
  {
   "cell_type": "code",
   "execution_count": null,
   "id": "c2735bdf",
   "metadata": {},
   "outputs": [],
   "source": [
    "arr1 = [7, 2, 15, 3, 9]\n",
    "# arr2 = [12, 4, 8]\n",
    "result = []"
   ]
  },
  {
   "cell_type": "code",
   "execution_count": 14,
   "id": "a0a3cccd",
   "metadata": {},
   "outputs": [],
   "source": [
    "def merge (arr1, arr2):\n",
    "    merged = []\n",
    "    k=i=j=0\n",
    "    while i < len(arr1) and j < len(arr2):\n",
    "        if arr1[i] < arr2[j]:\n",
    "            merged.append(arr1[i])\n",
    "            i += 1\n",
    "        else:\n",
    "            merged.append(arr2[j])\n",
    "            j += 1\n",
    "    while i < len(arr1):\n",
    "        merged.append(arr1[i])\n",
    "        i += 1\n",
    "    while j < len(arr2):\n",
    "        merged.append(arr2[j])\n",
    "        j += 1\n",
    "    \n",
    "    return merged"
   ]
  },
  {
   "cell_type": "code",
   "execution_count": 29,
   "id": "6e579845",
   "metadata": {},
   "outputs": [],
   "source": [
    "def merge_sort_arrays(arr):\n",
    "    if len(arr) <= 1:\n",
    "        return arr\n",
    "    mid = len(arr) // 2\n",
    "    left = merge_sort_arrays(arr[:mid])\n",
    "    right = merge_sort_arrays(arr[mid:])\n",
    "    return merge(left, right)"
   ]
  },
  {
   "cell_type": "code",
   "execution_count": 30,
   "id": "26fa58ac",
   "metadata": {},
   "outputs": [
    {
     "name": "stdout",
     "output_type": "stream",
     "text": [
      "Merged sorted array: [2, 3, 7, 9, 15]\n"
     ]
    }
   ],
   "source": [
    "merged_result = merge_sort_arrays(arr1)\n",
    "print(\"Merged sorted array:\", merged_result)"
   ]
  }
 ],
 "metadata": {
  "kernelspec": {
   "display_name": ".venv (3.13.3)",
   "language": "python",
   "name": "python3"
  },
  "language_info": {
   "codemirror_mode": {
    "name": "ipython",
    "version": 3
   },
   "file_extension": ".py",
   "mimetype": "text/x-python",
   "name": "python",
   "nbconvert_exporter": "python",
   "pygments_lexer": "ipython3",
   "version": "3.13.3"
  }
 },
 "nbformat": 4,
 "nbformat_minor": 5
}
