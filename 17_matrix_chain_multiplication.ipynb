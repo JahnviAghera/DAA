{
 "cells": [
  {
   "cell_type": "code",
   "execution_count": 11,
   "id": "adb41bb8",
   "metadata": {},
   "outputs": [],
   "source": [
    "def mcm(d):\n",
    "    n = len(d)\n",
    "    m = [[0]*n for _ in range(n)]\n",
    "    s = [[0]*n for _ in range(n)]\n",
    "    for D in range(1, n):\n",
    "        for i in range(1, n-D):\n",
    "            j = i + D\n",
    "            m[i][j] = float('inf')\n",
    "            for k in range(i, j):\n",
    "                q = m[i][k] + m[k+1][j] + d[i-1]*d[k]*d[j]\n",
    "                if q < m[i][j]:\n",
    "                    m[i][j] = q\n",
    "                    s[i][j] = k\n",
    "    #print matrix\n",
    "    for row in m:\n",
    "        print('\\t'.join(str(x) for x in row))\n",
    "    return m[1][n-1]"
   ]
  },
  {
   "cell_type": "code",
   "execution_count": 12,
   "id": "6e9aeebe",
   "metadata": {},
   "outputs": [
    {
     "name": "stdout",
     "output_type": "stream",
     "text": [
      "0\t0\t0\t0\t0\n",
      "0\t0\t24\t28\t58\n",
      "0\t0\t0\t16\t36\n",
      "0\t0\t0\t0\t40\n",
      "0\t0\t0\t0\t0\n"
     ]
    },
    {
     "data": {
      "text/plain": [
       "58"
      ]
     },
     "execution_count": 12,
     "metadata": {},
     "output_type": "execute_result"
    }
   ],
   "source": [
    "mcm([3,2,4,2,5])"
   ]
  }
 ],
 "metadata": {
  "kernelspec": {
   "display_name": ".venv (3.13.3)",
   "language": "python",
   "name": "python3"
  },
  "language_info": {
   "codemirror_mode": {
    "name": "ipython",
    "version": 3
   },
   "file_extension": ".py",
   "mimetype": "text/x-python",
   "name": "python",
   "nbconvert_exporter": "python",
   "pygments_lexer": "ipython3",
   "version": "3.13.3"
  }
 },
 "nbformat": 4,
 "nbformat_minor": 5
}
