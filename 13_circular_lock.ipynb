{
 "cells": [
  {
   "cell_type": "code",
   "execution_count": 12,
   "id": "1580332f",
   "metadata": {},
   "outputs": [],
   "source": [
    "lock_code=9287\n",
    "unlock_code=0000"
   ]
  },
  {
   "cell_type": "code",
   "execution_count": 16,
   "id": "b95a0b62",
   "metadata": {},
   "outputs": [],
   "source": [
    "rotate = 0\n",
    "def rotate_lock():\n",
    "    while lock_code !=0:\n",
    "        l = lock_code % 10\n",
    "        u = unlock_code % 10\n",
    "        if l == u:\n",
    "            rotate += 1\n",
    "        else:\n",
    "            rotate = 0\n",
    "        if lock_code == unlock_code:\n",
    "            print(\"Lock is unlocked\")\n",
    "            break\n",
    "    print(\"Lock is still locked\")\n",
    "    print(\"Number of rotations to unlock the lock:\", rotate)"
   ]
  },
  {
   "cell_type": "code",
   "execution_count": null,
   "id": "778daf28",
   "metadata": {},
   "outputs": [],
   "source": [
    "rotate_lock()"
   ]
  }
 ],
 "metadata": {
  "kernelspec": {
   "display_name": ".venv (3.13.3)",
   "language": "python",
   "name": "python3"
  },
  "language_info": {
   "codemirror_mode": {
    "name": "ipython",
    "version": 3
   },
   "file_extension": ".py",
   "mimetype": "text/x-python",
   "name": "python",
   "nbconvert_exporter": "python",
   "pygments_lexer": "ipython3",
   "version": "3.13.3"
  }
 },
 "nbformat": 4,
 "nbformat_minor": 5
}
