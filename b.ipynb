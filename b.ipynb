{
 "cells": [
  {
   "cell_type": "code",
   "execution_count": 6,
   "id": "38f8454f",
   "metadata": {},
   "outputs": [
    {
     "data": {
      "text/plain": [
       "32"
      ]
     },
     "execution_count": 6,
     "metadata": {},
     "output_type": "execute_result"
    }
   ],
   "source": [
    "def power(count, base):\n",
    "    if count == 0:\n",
    "        return 1\n",
    "    else:\n",
    "        return base * power(count - 1, base)\n",
    "\n",
    "power(5, 2)"
   ]
  },
  {
   "cell_type": "code",
   "execution_count": 14,
   "id": "0b4e6eea",
   "metadata": {},
   "outputs": [
    {
     "name": "stdout",
     "output_type": "stream",
     "text": [
      "1\n"
     ]
    }
   ],
   "source": [
    "def fact(n):\n",
    "    if n == 0 :\n",
    "        return 1\n",
    "    elif n>0:\n",
    "        return n*fact(n-1)\n",
    "    else:\n",
    "        return 1\n",
    "print(fact(0))"
   ]
  },
  {
   "cell_type": "code",
   "execution_count": 24,
   "id": "c4a0a621",
   "metadata": {},
   "outputs": [
    {
     "name": "stdout",
     "output_type": "stream",
     "text": [
      "1\n"
     ]
    }
   ],
   "source": [
    "def sum(n):\n",
    "    if n == 0 :\n",
    "        return 0\n",
    "    else:\n",
    "        return n+sum(n-1)\n",
    "print(sum(1))"
   ]
  },
  {
   "cell_type": "code",
   "execution_count": null,
   "id": "99abba47",
   "metadata": {},
   "outputs": [],
   "source": []
  }
 ],
 "metadata": {
  "kernelspec": {
   "display_name": ".venv (3.13.3)",
   "language": "python",
   "name": "python3"
  },
  "language_info": {
   "codemirror_mode": {
    "name": "ipython",
    "version": 3
   },
   "file_extension": ".py",
   "mimetype": "text/x-python",
   "name": "python",
   "nbconvert_exporter": "python",
   "pygments_lexer": "ipython3",
   "version": "3.13.3"
  }
 },
 "nbformat": 4,
 "nbformat_minor": 5
}
