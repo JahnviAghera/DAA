{
 "cells": [
  {
   "cell_type": "markdown",
   "id": "b0d8c2fd",
   "metadata": {},
   "source": [
    "This code implements the Exponential (Power) function with **O(N) using Divide and Conquer Approach**.\n",
    "\n",
    "It recursively multiplies the base `count` times, reducing `count` by 1 each call, which results in O(N) time complexity. It is not the O(logN) optimized version, nor is it the iterative naive approach.\n"
   ]
  },
  {
   "cell_type": "code",
   "execution_count": null,
   "id": "38f8454f",
   "metadata": {},
   "outputs": [
    {
     "data": {
      "text/plain": [
       "32"
      ]
     },
     "execution_count": 6,
     "metadata": {},
     "output_type": "execute_result"
    }
   ],
   "source": [
    "def power(count, base):\n",
    "    if count == 0:\n",
    "        return 1\n",
    "    else:\n",
    "        return base * power(count - 1, base)\n",
    "\n",
    "power(5, 2)"
   ]
  },
  {
   "cell_type": "code",
   "execution_count": null,
   "id": "41b9bd45",
   "metadata": {},
   "outputs": [],
   "source": []
  },
  {
   "cell_type": "code",
   "execution_count": 14,
   "id": "0b4e6eea",
   "metadata": {},
   "outputs": [
    {
     "name": "stdout",
     "output_type": "stream",
     "text": [
      "1\n"
     ]
    }
   ],
   "source": [
    "def fact(n):\n",
    "    if n == 0 :\n",
    "        return 1\n",
    "    elif n>0:\n",
    "        return n*fact(n-1)\n",
    "    else:\n",
    "        return 1\n",
    "print(fact(0))"
   ]
  },
  {
   "cell_type": "code",
   "execution_count": null,
   "id": "f3e40400",
   "metadata": {},
   "outputs": [],
   "source": [
    "# Exponential Function using Iterative (Naive) Approach\n",
    "def power_iterative(x, n):\n",
    "    result = 1\n",
    "    for _ in range(n):\n",
    "        result *= x\n",
    "    return result\n",
    "\n",
    "# Exponential Function with O(N) using Divide and Conquer Approach\n",
    "def power_divide_conquer_on(x, n):\n",
    "    if n == 0:\n",
    "        return 1\n",
    "    else:\n",
    "        return x * power_divide_conquer_on(x, n - 1)\n",
    "\n",
    "# Exponential Function with O(logN) using Divide and Conquer Approach\n",
    "def power_divide_conquer_logn(x, n):\n",
    "    if n == 0:\n",
    "        return 1\n",
    "    elif n % 2 == 0:\n",
    "        half = power_divide_conquer_logn(x, n // 2)\n",
    "        return half * half\n",
    "    else:\n",
    "        return x * power_divide_conquer_logn(x, n - 1)\n",
    "\n",
    "# Example usage:\n",
    "print(\"Iterative:\", power_iterative(2, 5))\n",
    "print(\"O(N) Divide & Conquer:\", power_divide_conquer_on(2, 5))\n",
    "print(\"O(logN) Divide & Conquer:\", power_divide_conquer_logn(2, 5))"
   ]
  },
  {
   "cell_type": "code",
   "execution_count": 24,
   "id": "c4a0a621",
   "metadata": {},
   "outputs": [
    {
     "name": "stdout",
     "output_type": "stream",
     "text": [
      "1\n"
     ]
    }
   ],
   "source": [
    "def sum(n):\n",
    "    if n == 0 :\n",
    "        return 0\n",
    "    else:\n",
    "        return n+sum(n-1)\n",
    "print(sum(1))"
   ]
  },
  {
   "cell_type": "code",
   "execution_count": null,
   "id": "99abba47",
   "metadata": {},
   "outputs": [],
   "source": []
  }
 ],
 "metadata": {
  "kernelspec": {
   "display_name": "Python 3",
   "language": "python",
   "name": "python3"
  },
  "language_info": {
   "codemirror_mode": {
    "name": "ipython",
    "version": 3
   },
   "file_extension": ".py",
   "mimetype": "text/x-python",
   "name": "python",
   "nbconvert_exporter": "python",
   "pygments_lexer": "ipython3",
   "version": "3.12.5"
  }
 },
 "nbformat": 4,
 "nbformat_minor": 5
}
