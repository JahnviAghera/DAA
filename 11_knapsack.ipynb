{
 "cells": [
  {
   "cell_type": "code",
   "execution_count": 2,
   "id": "32642c48",
   "metadata": {},
   "outputs": [],
   "source": [
    "product = [\n",
    "    {\"name\": \"Laptop\", \"weight\": 2, \"value\": 3000},\n",
    "    {\"name\": \"Smartphone\", \"weight\": 1, \"value\": 1000},\n",
    "    {\"name\": \"Tablet\", \"weight\": 1.5, \"value\": 1500},\n",
    "    {\"name\": \"Headphones\", \"weight\": 0.5, \"value\": 200}\n",
    "]"
   ]
  },
  {
   "cell_type": "code",
   "execution_count": 6,
   "id": "0605b1d3",
   "metadata": {},
   "outputs": [
    {
     "name": "stdout",
     "output_type": "stream",
     "text": [
      "Selected products: ['Laptop', 'Smartphone']\n",
      "Total gain: 4000\n"
     ]
    }
   ],
   "source": [
    "gain =0\n",
    "max_weight = 3\n",
    "selected_product = []\n",
    "for item in product:\n",
    "    if item[\"weight\"] <= max_weight:\n",
    "        gain += item[\"value\"]\n",
    "        max_weight -= item[\"weight\"]\n",
    "        selected_product.append(item[\"name\"])\n",
    "        if max_weight == 0:\n",
    "            break\n",
    "print(f\"Selected products: {selected_product}\")\n",
    "print(f\"Total gain: {gain}\")"
   ]
  },
  {
   "cell_type": "markdown",
   "id": "861ebf54",
   "metadata": {},
   "source": []
  }
 ],
 "metadata": {
  "kernelspec": {
   "display_name": ".venv (3.13.3)",
   "language": "python",
   "name": "python3"
  },
  "language_info": {
   "codemirror_mode": {
    "name": "ipython",
    "version": 3
   },
   "file_extension": ".py",
   "mimetype": "text/x-python",
   "name": "python",
   "nbconvert_exporter": "python",
   "pygments_lexer": "ipython3",
   "version": "3.13.3"
  }
 },
 "nbformat": 4,
 "nbformat_minor": 5
}
