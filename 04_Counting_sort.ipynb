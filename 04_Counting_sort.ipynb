{
 "cells": [
  {
   "cell_type": "markdown",
   "id": "89de5375",
   "metadata": {},
   "source": [
    "15/07/2025\n",
    "Counting Sort"
   ]
  },
  {
   "cell_type": "code",
   "execution_count": null,
   "id": "1be73276",
   "metadata": {},
   "outputs": [],
   "source": []
  },
  {
   "cell_type": "code",
   "execution_count": null,
   "id": "d259c49c",
   "metadata": {},
   "outputs": [
    {
     "name": "stdout",
     "output_type": "stream",
     "text": [
      "Count array after counting elements: [0, 0, 0, 0, 0, 1, 0, 0, 0] for element: 5 at index: 0 with value: 1\n",
      "Count array after counting elements: [0, 0, 1, 0, 0, 1, 0, 0, 0] for element: 2 at index: 1 with value: 1\n",
      "Count array after counting elements: [0, 0, 1, 0, 0, 1, 0, 0, 1] for element: 8 at index: 2 with value: 1\n",
      "Count array after counting elements: [0, 0, 1, 0, 1, 1, 0, 0, 1] for element: 4 at index: 3 with value: 1\n",
      "Count array after counting elements: [0, 0, 1, 0, 1, 1, 1, 0, 1] for element: 6 at index: 4 with value: 1\n",
      "Output array after adding elements: [2]\n",
      "Output array after adding elements: [2, 4]\n",
      "Output array after adding elements: [2, 4, 5]\n",
      "Output array after adding elements: [2, 4, 5, 6]\n",
      "Output array after adding elements: [2, 4, 5, 6, 8]\n",
      "Final count array: [0, 0, 1, 0, 1, 1, 1, 0, 1]\n",
      "Sorted array: [2, 4, 5, 6, 8]\n"
     ]
    }
   ],
   "source": [
    "arr = [5,2,8,4,6]\n",
    "max_number = arr[0]\n",
    "for i in range(len(arr)):\n",
    "    if arr[i] > max_number:\n",
    "        max_number = arr[i]\n",
    "\n",
    "count = [0] * (max_number + 1)\n",
    "for i in range(len(arr)):\n",
    "    count[arr[i]] += 1\n",
    "    print(\"Count array after counting elements:\", count , \"for element:\", arr[i], \"at index:\", i, \"with value:\", count[arr[i]])\n",
    "output = []\n",
    "for i in range(len(count)):\n",
    "    for j in range(count[i]):\n",
    "        output.append(i)\n",
    "        print(\"Output array after adding elements:\", output)\n",
    "print(\"Final count array:\", count)\n",
    "print(\"Sorted array:\", output)\n",
    "#Note: to avoid increasing the space complexity, we can use the input array to store the count array and then use it to sort the elements in place.\n"
   ]
  },
  {
   "cell_type": "markdown",
   "id": "7777d4f8",
   "metadata": {},
   "source": [
    "Task 1 : Sort the characters (alphabets and digits) using counting sort"
   ]
  },
  {
   "cell_type": "code",
   "execution_count": 18,
   "id": "47aedf55",
   "metadata": {},
   "outputs": [
    {
     "name": "stdout",
     "output_type": "stream",
     "text": [
      "Count array after counting elements: [0, 0, 0, 0, 0, 0, 0, 0, 0, 0, 0, 0, 0, 0, 0, 0, 0, 0, 0, 0, 0, 0, 0, 0, 0, 0, 0, 0, 0, 0, 0, 0, 0, 0, 0, 0, 0, 0, 0, 0, 0, 0, 0, 0, 0, 0, 0, 0, 0, 0, 0, 0, 0, 0, 0, 0, 0, 0, 0, 0, 0, 0, 0, 0, 0, 0, 0, 0, 0, 0, 0, 0, 0, 0, 0, 0, 0, 0, 0, 0, 0, 0, 0, 0, 0, 0, 0, 0, 0, 0, 0, 0, 0, 0, 0, 0, 0, 0, 0, 0, 1, 0] for element: 100 at index: 0 with value: 1\n",
      "Count array after counting elements: [0, 0, 0, 0, 0, 0, 0, 0, 0, 0, 0, 0, 0, 0, 0, 0, 0, 0, 0, 0, 0, 0, 0, 0, 0, 0, 0, 0, 0, 0, 0, 0, 0, 0, 0, 0, 0, 0, 0, 0, 0, 0, 0, 0, 0, 0, 0, 0, 0, 0, 0, 1, 0, 0, 0, 0, 0, 0, 0, 0, 0, 0, 0, 0, 0, 0, 0, 0, 0, 0, 0, 0, 0, 0, 0, 0, 0, 0, 0, 0, 0, 0, 0, 0, 0, 0, 0, 0, 0, 0, 0, 0, 0, 0, 0, 0, 0, 0, 0, 0, 1, 0] for element: 51 at index: 1 with value: 1\n",
      "Count array after counting elements: [0, 0, 0, 0, 0, 0, 0, 0, 0, 0, 0, 0, 0, 0, 0, 0, 0, 0, 0, 0, 0, 0, 0, 0, 0, 0, 0, 0, 0, 0, 0, 0, 0, 0, 0, 0, 0, 0, 0, 0, 0, 0, 0, 0, 0, 0, 0, 0, 0, 0, 0, 1, 0, 0, 0, 0, 0, 0, 0, 0, 0, 0, 0, 0, 0, 0, 0, 0, 0, 0, 0, 0, 0, 0, 0, 0, 0, 0, 0, 0, 0, 0, 0, 0, 0, 0, 0, 0, 0, 0, 0, 0, 0, 0, 0, 0, 0, 1, 0, 0, 1, 0] for element: 97 at index: 2 with value: 1\n",
      "Count array after counting elements: [0, 0, 0, 0, 0, 0, 0, 0, 0, 0, 0, 0, 0, 0, 0, 0, 0, 0, 0, 0, 0, 0, 0, 0, 0, 0, 0, 0, 0, 0, 0, 0, 0, 0, 0, 0, 0, 0, 0, 0, 0, 0, 0, 0, 0, 0, 0, 0, 0, 0, 0, 1, 0, 0, 0, 0, 0, 1, 0, 0, 0, 0, 0, 0, 0, 0, 0, 0, 0, 0, 0, 0, 0, 0, 0, 0, 0, 0, 0, 0, 0, 0, 0, 0, 0, 0, 0, 0, 0, 0, 0, 0, 0, 0, 0, 0, 0, 1, 0, 0, 1, 0] for element: 57 at index: 3 with value: 1\n",
      "Count array after counting elements: [0, 0, 0, 0, 0, 0, 0, 0, 0, 0, 0, 0, 0, 0, 0, 0, 0, 0, 0, 0, 0, 0, 0, 0, 0, 0, 0, 0, 0, 0, 0, 0, 0, 0, 0, 0, 0, 0, 0, 0, 0, 0, 0, 0, 0, 0, 0, 0, 0, 0, 0, 1, 0, 0, 0, 0, 0, 1, 0, 0, 0, 0, 0, 0, 0, 0, 0, 0, 0, 0, 0, 0, 0, 0, 0, 0, 0, 0, 0, 0, 0, 0, 0, 0, 0, 0, 0, 0, 0, 0, 0, 0, 0, 0, 0, 0, 0, 1, 1, 0, 1, 0] for element: 98 at index: 4 with value: 1\n",
      "Count array after counting elements: [0, 0, 0, 0, 0, 0, 0, 0, 0, 0, 0, 0, 0, 0, 0, 0, 0, 0, 0, 0, 0, 0, 0, 0, 0, 0, 0, 0, 0, 0, 0, 0, 0, 0, 0, 0, 0, 0, 0, 0, 0, 0, 0, 0, 0, 0, 0, 0, 0, 1, 0, 1, 0, 0, 0, 0, 0, 1, 0, 0, 0, 0, 0, 0, 0, 0, 0, 0, 0, 0, 0, 0, 0, 0, 0, 0, 0, 0, 0, 0, 0, 0, 0, 0, 0, 0, 0, 0, 0, 0, 0, 0, 0, 0, 0, 0, 0, 1, 1, 0, 1, 0] for element: 49 at index: 5 with value: 1\n",
      "Count array after counting elements: [0, 0, 0, 0, 0, 0, 0, 0, 0, 0, 0, 0, 0, 0, 0, 0, 0, 0, 0, 0, 0, 0, 0, 0, 0, 0, 0, 0, 0, 0, 0, 0, 0, 0, 0, 0, 0, 0, 0, 0, 0, 0, 0, 0, 0, 0, 0, 0, 0, 1, 0, 1, 0, 0, 0, 0, 0, 1, 0, 0, 0, 0, 0, 0, 0, 0, 0, 0, 0, 0, 0, 0, 0, 0, 0, 0, 0, 0, 0, 0, 0, 0, 0, 0, 0, 0, 0, 0, 0, 0, 0, 0, 0, 0, 0, 0, 0, 1, 1, 1, 1, 0] for element: 99 at index: 6 with value: 1\n",
      "Count array after counting elements: [0, 0, 0, 0, 0, 0, 0, 0, 0, 0, 0, 0, 0, 0, 0, 0, 0, 0, 0, 0, 0, 0, 0, 0, 0, 0, 0, 0, 0, 0, 0, 0, 0, 0, 0, 0, 0, 0, 0, 0, 0, 0, 0, 0, 0, 0, 0, 0, 0, 1, 0, 1, 0, 0, 0, 0, 1, 1, 0, 0, 0, 0, 0, 0, 0, 0, 0, 0, 0, 0, 0, 0, 0, 0, 0, 0, 0, 0, 0, 0, 0, 0, 0, 0, 0, 0, 0, 0, 0, 0, 0, 0, 0, 0, 0, 0, 0, 1, 1, 1, 1, 0] for element: 56 at index: 7 with value: 1\n",
      "Count array after counting elements: [0, 0, 0, 0, 0, 0, 0, 0, 0, 0, 0, 0, 0, 0, 0, 0, 0, 0, 0, 0, 0, 0, 0, 0, 0, 0, 0, 0, 0, 0, 0, 0, 0, 0, 0, 0, 0, 0, 0, 0, 0, 0, 0, 0, 0, 0, 0, 0, 0, 1, 0, 1, 0, 0, 0, 0, 1, 1, 0, 0, 0, 0, 0, 0, 0, 0, 0, 0, 0, 0, 0, 0, 0, 0, 0, 0, 0, 0, 0, 0, 0, 0, 0, 0, 0, 0, 0, 0, 0, 0, 0, 0, 0, 0, 0, 0, 0, 1, 1, 1, 1, 1] for element: 101 at index: 8 with value: 1\n",
      "Count array after counting elements: [0, 0, 0, 0, 0, 0, 0, 0, 0, 0, 0, 0, 0, 0, 0, 0, 0, 0, 0, 0, 0, 0, 0, 0, 0, 0, 0, 0, 0, 0, 0, 0, 0, 0, 0, 0, 0, 0, 0, 0, 0, 0, 0, 0, 0, 0, 0, 0, 0, 1, 1, 1, 0, 0, 0, 0, 1, 1, 0, 0, 0, 0, 0, 0, 0, 0, 0, 0, 0, 0, 0, 0, 0, 0, 0, 0, 0, 0, 0, 0, 0, 0, 0, 0, 0, 0, 0, 0, 0, 0, 0, 0, 0, 0, 0, 0, 0, 1, 1, 1, 1, 1] for element: 50 at index: 9 with value: 1\n",
      "Output array after adding elements: [49]\n",
      "Output array after adding elements: [49, 50]\n",
      "Output array after adding elements: [49, 50, 51]\n",
      "Output array after adding elements: [49, 50, 51, 56]\n",
      "Output array after adding elements: [49, 50, 51, 56, 57]\n",
      "Output array after adding elements: [49, 50, 51, 56, 57, 97]\n",
      "Output array after adding elements: [49, 50, 51, 56, 57, 97, 98]\n",
      "Output array after adding elements: [49, 50, 51, 56, 57, 97, 98, 99]\n",
      "Output array after adding elements: [49, 50, 51, 56, 57, 97, 98, 99, 100]\n",
      "Output array after adding elements: [49, 50, 51, 56, 57, 97, 98, 99, 100, 101]\n",
      "Final count array: [0, 0, 0, 0, 0, 0, 0, 0, 0, 0, 0, 0, 0, 0, 0, 0, 0, 0, 0, 0, 0, 0, 0, 0, 0, 0, 0, 0, 0, 0, 0, 0, 0, 0, 0, 0, 0, 0, 0, 0, 0, 0, 0, 0, 0, 0, 0, 0, 0, 1, 1, 1, 0, 0, 0, 0, 1, 1, 0, 0, 0, 0, 0, 0, 0, 0, 0, 0, 0, 0, 0, 0, 0, 0, 0, 0, 0, 0, 0, 0, 0, 0, 0, 0, 0, 0, 0, 0, 0, 0, 0, 0, 0, 0, 0, 0, 0, 1, 1, 1, 1, 1]\n",
      "Sorted array: [49, 50, 51, 56, 57, 97, 98, 99, 100, 101]\n",
      "Sorted characters: ['1', '2', '3', '8', '9', 'a', 'b', 'c', 'd', 'e']\n"
     ]
    }
   ],
   "source": [
    "unsorted_chars = ['d', '3', 'a', '9', 'b', '1', 'c', '8', 'e', '2']\n",
    "arr = [ord(unsorted_chars[i]) for i in range(len(unsorted_chars))]\n",
    "max_number = arr[0]\n",
    "for i in range(len(arr)):\n",
    "    if arr[i] > max_number:\n",
    "        max_number = arr[i]\n",
    "\n",
    "count = [0] * (max_number + 1)\n",
    "for i in range(len(arr)):\n",
    "    count[arr[i]] += 1\n",
    "    print(\"Count array after counting elements:\", count , \"for element:\", arr[i], \"at index:\", i, \"with value:\", count[arr[i]])\n",
    "output = []\n",
    "for i in range(len(count)):\n",
    "    for j in range(count[i]):\n",
    "        output.append(i)\n",
    "        print(\"Output array after adding elements:\", output)\n",
    "sorted=[chr(i) for i in output]\n",
    "print(\"Final count array:\", count)\n",
    "print(\"Sorted array:\", output)\n",
    "print(\"Sorted characters:\", sorted)"
   ]
  }
 ],
 "metadata": {
  "kernelspec": {
   "display_name": ".venv",
   "language": "python",
   "name": "python3"
  },
  "language_info": {
   "codemirror_mode": {
    "name": "ipython",
    "version": 3
   },
   "file_extension": ".py",
   "mimetype": "text/x-python",
   "name": "python",
   "nbconvert_exporter": "python",
   "pygments_lexer": "ipython3",
   "version": "3.13.3"
  }
 },
 "nbformat": 4,
 "nbformat_minor": 5
}
