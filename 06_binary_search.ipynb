{
 "cells": [
  {
   "cell_type": "code",
   "execution_count": 1,
   "id": "ee5ae826",
   "metadata": {},
   "outputs": [],
   "source": [
    "arr=[1,3,5,7,9,11,13]"
   ]
  },
  {
   "cell_type": "code",
   "execution_count": null,
   "id": "cb39bf20",
   "metadata": {},
   "outputs": [],
   "source": [
    "def binary_search(arr,l,r,key):\n",
    "    if l<=r:\n",
    "        mid = (l+r)//2\n",
    "        if(arr[mid]==key):\n",
    "            return mid\n",
    "        elif(arr[mid]<key):\n",
    "            return binary_search(arr,mid+1,r,key)\n",
    "        else:\n",
    "            return binary_search(arr,l,mid-1,key)"
   ]
  },
  {
   "cell_type": "code",
   "execution_count": 12,
   "id": "3f362dca",
   "metadata": {},
   "outputs": [
    {
     "name": "stdout",
     "output_type": "stream",
     "text": [
      "Array: [1, 5, 7, 9]\n",
      "Key: 7\n",
      "Element 7 found at index 2\n"
     ]
    }
   ],
   "source": [
    "arr = list(map(int, input(\"Enter the array elements separated by spaces: \").split()))\n",
    "key = int(input(\"Enter the key to search: \"))\n",
    "print(\"Array:\", arr)\n",
    "print(\"Key:\", key)\n",
    "result = binary_search(arr, 0, len(arr)-1, key)\n",
    "if result != -1:\n",
    "    print(f\"Element {key} found at index {result}\")\n",
    "else:\n",
    "    print(f\"Element {key} not found in array\")"
   ]
  }
 ],
 "metadata": {
  "kernelspec": {
   "display_name": ".venv (3.13.3)",
   "language": "python",
   "name": "python3"
  },
  "language_info": {
   "codemirror_mode": {
    "name": "ipython",
    "version": 3
   },
   "file_extension": ".py",
   "mimetype": "text/x-python",
   "name": "python",
   "nbconvert_exporter": "python",
   "pygments_lexer": "ipython3",
   "version": "3.13.3"
  }
 },
 "nbformat": 4,
 "nbformat_minor": 5
}
