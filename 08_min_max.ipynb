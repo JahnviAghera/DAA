{
 "cells": [
  {
   "cell_type": "code",
   "execution_count": 1,
   "id": "0fade91e",
   "metadata": {},
   "outputs": [],
   "source": [
    "arr = [15,4,7,3,2,8]"
   ]
  },
  {
   "cell_type": "code",
   "execution_count": 2,
   "id": "61c72182",
   "metadata": {},
   "outputs": [],
   "source": [
    "def minmax(arr):\n",
    "    if(len(arr)==1):\n",
    "        return (arr[0],arr[0])\n",
    "    mid = int(len(arr)/2)\n",
    "    lmin,lmax = minmax(arr[:mid])\n",
    "    rmin,rmax = minmax(arr[mid:])\n",
    "    return (min(lmin,rmin),max(lmax,rmax))"
   ]
  },
  {
   "cell_type": "code",
   "execution_count": 3,
   "id": "88cb680f",
   "metadata": {},
   "outputs": [
    {
     "data": {
      "text/plain": [
       "(2, 15)"
      ]
     },
     "execution_count": 3,
     "metadata": {},
     "output_type": "execute_result"
    }
   ],
   "source": [
    "minmax(arr)"
   ]
  }
 ],
 "metadata": {
  "kernelspec": {
   "display_name": ".venv (3.13.3)",
   "language": "python",
   "name": "python3"
  },
  "language_info": {
   "codemirror_mode": {
    "name": "ipython",
    "version": 3
   },
   "file_extension": ".py",
   "mimetype": "text/x-python",
   "name": "python",
   "nbconvert_exporter": "python",
   "pygments_lexer": "ipython3",
   "version": "3.13.3"
  }
 },
 "nbformat": 4,
 "nbformat_minor": 5
}
