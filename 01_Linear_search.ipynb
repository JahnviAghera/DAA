{
 "cells": [
  {
   "cell_type": "markdown",
   "id": "6c65f840",
   "metadata": {},
   "source": [
    "08/07/2025\n",
    "Linear Search\n"
   ]
  },
  {
   "cell_type": "code",
   "execution_count": 1,
   "id": "e6e7a4d3",
   "metadata": {},
   "outputs": [],
   "source": [
    "arr = [1, 3, 7, 5, 2, 6, 4, 8]\n",
    "key = 5"
   ]
  },
  {
   "cell_type": "code",
   "execution_count": 2,
   "id": "0f8719c3",
   "metadata": {},
   "outputs": [
    {
     "name": "stdout",
     "output_type": "stream",
     "text": [
      "element found\n"
     ]
    }
   ],
   "source": [
    "def linear_search (arr,key):\n",
    "    for i in range(0,len(arr)):\n",
    "        if(key==arr[i]):\n",
    "            print(\"element found\")\n",
    "            return\n",
    "    print(\"element not found\")\n",
    "linear_search(arr,key)\n"
   ]
  },
  {
   "cell_type": "markdown",
   "id": "6979250f",
   "metadata": {},
   "source": [
    "Question 1: Write a code for counting occurence of a key"
   ]
  },
  {
   "cell_type": "code",
   "execution_count": 3,
   "id": "d4ef9da1",
   "metadata": {},
   "outputs": [
    {
     "data": {
      "text/plain": [
       "1"
      ]
     },
     "execution_count": 3,
     "metadata": {},
     "output_type": "execute_result"
    }
   ],
   "source": [
    "def occurence_count(arr,key):\n",
    "    count = 0\n",
    "    for i in range(0,len(arr)):\n",
    "        if(key==arr[i]):\n",
    "            count +=1\n",
    "    return count\n",
    "occurence_count(arr,key)"
   ]
  },
  {
   "cell_type": "markdown",
   "id": "525a1139",
   "metadata": {},
   "source": [
    "Question 2: Identify the number of times a key is occuring in odd indices"
   ]
  },
  {
   "cell_type": "code",
   "execution_count": 4,
   "id": "8d9e19ab",
   "metadata": {},
   "outputs": [
    {
     "data": {
      "text/plain": [
       "1"
      ]
     },
     "execution_count": 4,
     "metadata": {},
     "output_type": "execute_result"
    }
   ],
   "source": [
    "def odd_indice_occurence_count(arr,key):\n",
    "    count = 0\n",
    "    for i in range(0,len(arr)):\n",
    "        if(key==arr[i]):\n",
    "            if(i%2!=0):\n",
    "                count +=1\n",
    "    return count\n",
    "odd_indice_occurence_count(arr,key)"
   ]
  }
 ],
 "metadata": {
  "kernelspec": {
   "display_name": ".venv",
   "language": "python",
   "name": "python3"
  },
  "language_info": {
   "codemirror_mode": {
    "name": "ipython",
    "version": 3
   },
   "file_extension": ".py",
   "mimetype": "text/x-python",
   "name": "python",
   "nbconvert_exporter": "python",
   "pygments_lexer": "ipython3",
   "version": "3.13.3"
  }
 },
 "nbformat": 4,
 "nbformat_minor": 5
}
