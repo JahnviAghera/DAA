{
 "cells": [
  {
   "cell_type": "code",
   "execution_count": 1,
   "id": "05408ac4",
   "metadata": {},
   "outputs": [
    {
     "name": "stdout",
     "output_type": "stream",
     "text": [
      "Pattern found at indices: [10]\n"
     ]
    }
   ],
   "source": [
    "def naive_string_match(text, pattern):\n",
    "    n = len(text)\n",
    "    m = len(pattern)\n",
    "    positions = []  # store all match indices\n",
    "\n",
    "    # Slide pattern over text\n",
    "    for i in range(n - m + 1):\n",
    "        match = True\n",
    "        for j in range(m):\n",
    "            if text[i + j] != pattern[j]:\n",
    "                match = False\n",
    "                break\n",
    "        if match:\n",
    "            positions.append(i)\n",
    "\n",
    "    return positions\n",
    "\n",
    "\n",
    "# Example usage\n",
    "text = \"ABABDABACDABABCABAB\"\n",
    "pattern = \"ABABCABAB\"\n",
    "result = naive_string_match(text, pattern)\n",
    "\n",
    "print(\"Pattern found at indices:\", result)"
   ]
  }
 ],
 "metadata": {
  "kernelspec": {
   "display_name": ".venv (3.13.3)",
   "language": "python",
   "name": "python3"
  },
  "language_info": {
   "codemirror_mode": {
    "name": "ipython",
    "version": 3
   },
   "file_extension": ".py",
   "mimetype": "text/x-python",
   "name": "python",
   "nbconvert_exporter": "python",
   "pygments_lexer": "ipython3",
   "version": "3.13.3"
  }
 },
 "nbformat": 4,
 "nbformat_minor": 5
}
