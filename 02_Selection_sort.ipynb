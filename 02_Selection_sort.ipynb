{
 "cells": [
  {
   "cell_type": "markdown",
   "id": "fdc0dc37",
   "metadata": {},
   "source": [
    "08/07/2025\n",
    "Selection Sort"
   ]
  },
  {
   "cell_type": "code",
   "execution_count": 24,
   "id": "fc9880e1",
   "metadata": {},
   "outputs": [],
   "source": [
    "arr = [9, 3, 7, 1, 5, 2, 8, 4, 6]"
   ]
  },
  {
   "cell_type": "code",
   "execution_count": 25,
   "id": "9a503087",
   "metadata": {},
   "outputs": [
    {
     "name": "stdout",
     "output_type": "stream",
     "text": [
      "[1, 2, 3, 4, 5, 6, 7, 8, 9]\n"
     ]
    }
   ],
   "source": [
    "#in-place sorting algorithm\n",
    "def selection_sort(arr):\n",
    "    n = len(arr)\n",
    "    for i in range(n):\n",
    "        min_idx = i\n",
    "        for j in range(i+1, n):\n",
    "            if arr[j] < arr[min_idx]:\n",
    "                min_idx = j\n",
    "        arr[i], arr[min_idx] = arr[min_idx], arr[i]\n",
    "    return arr\n",
    "\n",
    "print(selection_sort(arr))"
   ]
  },
  {
   "cell_type": "markdown",
   "id": "e4715a2e",
   "metadata": {},
   "source": [
    "Question 1: \n",
    "Number of comparisions\n",
    "Number of Swaps\n",
    "for different input types of arrays (ascending, descending, all the elements same, randomized)"
   ]
  },
  {
   "cell_type": "code",
   "execution_count": 26,
   "id": "8bed4942",
   "metadata": {},
   "outputs": [
    {
     "name": "stdout",
     "output_type": "stream",
     "text": [
      "Ascending: Comparisons = 36, Swaps = 0\n",
      "Descending: Comparisons = 36, Swaps = 4\n",
      "All Same: Comparisons = 36, Swaps = 0\n",
      "Randomized: Comparisons = 36, Swaps = 7\n"
     ]
    }
   ],
   "source": [
    "def selection_sort_stats(arr):\n",
    "    n = len(arr)\n",
    "    comparisons = 0\n",
    "    swaps = 0\n",
    "    arr = arr.copy()\n",
    "    for i in range(n):\n",
    "        min_idx = i\n",
    "        for j in range(i+1, n):\n",
    "            comparisons += 1\n",
    "            if arr[j] < arr[min_idx]:\n",
    "                min_idx = j\n",
    "        if min_idx != i:\n",
    "            arr[i], arr[min_idx] = arr[min_idx], arr[i]\n",
    "            swaps += 1\n",
    "    return comparisons, swaps\n",
    "\n",
    "# Different input types\n",
    "ascending = [1, 2, 3, 4, 5, 6, 7, 8, 9]\n",
    "descending = [9, 8, 7, 6, 5, 4, 3, 2, 1]\n",
    "all_same = [5] * 9\n",
    "randomized = [9, 3, 7, 1, 5, 2, 8, 4, 6]\n",
    "\n",
    "results = {\n",
    "    \"Ascending\": selection_sort_stats(ascending),\n",
    "    \"Descending\": selection_sort_stats(descending),\n",
    "    \"All Same\": selection_sort_stats(all_same),\n",
    "    \"Randomized\": selection_sort_stats(randomized)\n",
    "}\n",
    "\n",
    "for case, (comparisons, swaps) in results.items():\n",
    "    print(f\"{case}: Comparisons = {comparisons}, Swaps = {swaps}\")"
   ]
  }
 ],
 "metadata": {
  "kernelspec": {
   "display_name": ".venv",
   "language": "python",
   "name": "python3"
  },
  "language_info": {
   "codemirror_mode": {
    "name": "ipython",
    "version": 3
   },
   "file_extension": ".py",
   "mimetype": "text/x-python",
   "name": "python",
   "nbconvert_exporter": "python",
   "pygments_lexer": "ipython3",
   "version": "3.13.3"
  }
 },
 "nbformat": 4,
 "nbformat_minor": 5
}
