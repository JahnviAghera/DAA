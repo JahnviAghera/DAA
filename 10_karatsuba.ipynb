{
 "cells": [
  {
   "cell_type": "code",
   "execution_count": 5,
   "id": "b82821a4",
   "metadata": {},
   "outputs": [
    {
     "ename": "ValueError",
     "evalue": "invalid literal for int() with base 10: ''",
     "output_type": "error",
     "traceback": [
      "\u001b[31m---------------------------------------------------------------------------\u001b[39m",
      "\u001b[31mValueError\u001b[39m                                Traceback (most recent call last)",
      "\u001b[36mCell\u001b[39m\u001b[36m \u001b[39m\u001b[32mIn[5]\u001b[39m\u001b[32m, line 12\u001b[39m\n\u001b[32m     10\u001b[39m         abcd=karatsuba((a+b),(c+d))-ac-bd\n\u001b[32m     11\u001b[39m     \u001b[38;5;28;01mreturn\u001b[39;00m (ac * \u001b[32m10\u001b[39m**m) + (abcd * \u001b[32m10\u001b[39m**\u001b[38;5;28mint\u001b[39m(m/\u001b[32m2\u001b[39m)) + db\n\u001b[32m---> \u001b[39m\u001b[32m12\u001b[39m x = \u001b[38;5;28;43mint\u001b[39;49m\u001b[43m(\u001b[49m\u001b[38;5;28;43minput\u001b[39;49m\u001b[43m(\u001b[49m\u001b[33;43m\"\u001b[39;49m\u001b[33;43mEnter number 1: \u001b[39;49m\u001b[33;43m\"\u001b[39;49m\u001b[43m)\u001b[49m\u001b[43m)\u001b[49m\n\u001b[32m     13\u001b[39m y = \u001b[38;5;28mint\u001b[39m(\u001b[38;5;28minput\u001b[39m(\u001b[33m\"\u001b[39m\u001b[33mEnter number 2: \u001b[39m\u001b[33m\"\u001b[39m))\n\u001b[32m     14\u001b[39m \u001b[38;5;28mprint\u001b[39m(karatsuba(x, y))\n",
      "\u001b[31mValueError\u001b[39m: invalid literal for int() with base 10: ''"
     ]
    }
   ],
   "source": [
    "def karatsub(x,y):\n",
    "    if(x<10 or y<10):\n",
    "        m=max(len(str(x)),len(str(y)))\n",
    "        if(n%2!=0):\n",
    "            m-=1\n",
    "        a,b=divmod(x,10**int(m/2))\n",
    "        c,d=divmod(y,10**int(m/2))\n",
    "        ac=karatsuba(a,c)\n",
    "        db=karatsuba(b,d)\n",
    "        abcd=karatsuba((a+b),(c+d))-ac-bd\n",
    "    return (ac * 10**m) + (abcd * 10**int(m/2)) + db\n",
    "x = int(input(\"Enter number 1: \"))\n",
    "y = int(input(\"Enter number 2: \"))\n",
    "print(karatsuba(x, y))"
   ]
  },
  {
   "cell_type": "code",
   "execution_count": null,
   "id": "9337ad20",
   "metadata": {},
   "outputs": [],
   "source": [
    "def karatsuba(x, y):\n",
    "    # Base case for recursion\n",
    "    if x < 10 or y < 10:\n",
    "        return x * y\n",
    "\n",
    "    # Calculates the size of the numbers\n",
    "    n = max(len(str(x)), len(str(y)))\n",
    "    m = n // 2\n",
    "\n",
    "    # Split the digit sequences about the middle\n",
    "    high1, low1 = divmod(x, 10**m)\n",
    "    high2, low2 = divmod(y, 10**m)\n",
    "\n",
    "    # 3 recursive calls\n",
    "    z0 = karatsuba(low1, low2)\n",
    "    z1 = karatsuba((low1 + high1), (low2 + high2))\n",
    "    z2 = karatsuba(high1, high2)\n",
    "\n",
    "    return (z2 * 10**(2*m)) + ((z1 - z2 - z0) * 10**m) + z0"
   ]
  }
 ],
 "metadata": {
  "kernelspec": {
   "display_name": ".venv (3.13.3)",
   "language": "python",
   "name": "python3"
  },
  "language_info": {
   "codemirror_mode": {
    "name": "ipython",
    "version": 3
   },
   "file_extension": ".py",
   "mimetype": "text/x-python",
   "name": "python",
   "nbconvert_exporter": "python",
   "pygments_lexer": "ipython3",
   "version": "3.13.3"
  }
 },
 "nbformat": 4,
 "nbformat_minor": 5
}
