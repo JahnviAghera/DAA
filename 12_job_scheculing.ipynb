{
 "cells": [
  {
   "cell_type": "code",
   "execution_count": 3,
   "id": "643a06d0",
   "metadata": {},
   "outputs": [],
   "source": [
    "jobs = [\n",
    "    {\"name\": \"A\", \"deadline\": 2, \"profit\": 100},\n",
    "    {\"name\": \"B\", \"deadline\": 1, \"profit\": 20},\n",
    "    {\"name\": \"C\", \"deadline\": 3, \"profit\": 35},\n",
    "    {\"name\": \"D\", \"deadline\": 1, \"profit\": 27},\n",
    "    {\"name\": \"E\", \"deadline\": 2, \"profit\": 30},\n",
    "    {\"name\": \"F\", \"deadline\": 1, \"profit\": 28},\n",
    "]"
   ]
  },
  {
   "cell_type": "code",
   "execution_count": 4,
   "id": "82abb29a",
   "metadata": {},
   "outputs": [],
   "source": [
    "sorted_by_profit =[]\n",
    "#sort by sorted_by_profit\n",
    "sorted_by_profit = sorted(jobs, key=lambda x: x[\"profit\"], reverse=True)\n",
    "\n"
   ]
  },
  {
   "cell_type": "code",
   "execution_count": 5,
   "id": "6f273c76",
   "metadata": {},
   "outputs": [],
   "source": [
    "days = []\n",
    "for i in range(max(job[\"deadline\"] for job in jobs)):\n",
    "    days.append([])"
   ]
  },
  {
   "cell_type": "code",
   "execution_count": 6,
   "id": "34bd9c2d",
   "metadata": {},
   "outputs": [
    {
     "name": "stdout",
     "output_type": "stream",
     "text": [
      "Job Scheduling Order:\n",
      "E\n",
      "Free Slots:\n",
      "A\n",
      "Free Slots:\n",
      "C\n",
      "Free Slots:\n"
     ]
    }
   ],
   "source": [
    "#job scheduling logic\n",
    "for job in sorted_by_profit:\n",
    "    for d in range(job[\"deadline\"] - 1, -1, -1):\n",
    "        if not days[d]:\n",
    "            days[d] = job[\"name\"]\n",
    "            break\n",
    "print(\"Job Scheduling Order:\")\n",
    "for day in days:\n",
    "    if day:\n",
    "        print(day)\n",
    "        print(\"Free Slots:\")\n",
    "        for i in range(len(days)):\n",
    "            if not days[i]:\n",
    "                print(f\"Day {i + 1}\")\n",
    "                "
   ]
  }
 ],
 "metadata": {
  "kernelspec": {
   "display_name": ".venv (3.13.3)",
   "language": "python",
   "name": "python3"
  },
  "language_info": {
   "codemirror_mode": {
    "name": "ipython",
    "version": 3
   },
   "file_extension": ".py",
   "mimetype": "text/x-python",
   "name": "python",
   "nbconvert_exporter": "python",
   "pygments_lexer": "ipython3",
   "version": "3.13.3"
  }
 },
 "nbformat": 4,
 "nbformat_minor": 5
}
