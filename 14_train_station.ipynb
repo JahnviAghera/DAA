{
 "cells": [
  {
   "cell_type": "code",
   "execution_count": 2,
   "id": "d02ba602",
   "metadata": {},
   "outputs": [],
   "source": [
    "trains = [\n",
    "    {\"train_no\": \"1\", \"arrival_time\": \"10:00\", \"departure_time\": \"10:30\", \"platform_no\": 1},\n",
    "    {\"train_no\": \"2\", \"arrival_time\": \"10:15\", \"departure_time\": \"10:45\", \"platform_no\": 2},\n",
    "    {\"train_no\": \"3\", \"arrival_time\": \"10:30\", \"departure_time\": \"11:00\", \"platform_no\": 1},\n",
    "    {\"train_no\": \"4\", \"arrival_time\": \"10:45\", \"departure_time\": \"11:15\", \"platform_no\": 3},\n",
    "    {\"train_no\": \"5\", \"arrival_time\": \"11:00\", \"departure_time\": \"11:30\", \"platform_no\": 1},\n",
    "    {\"train_no\": \"6\", \"arrival_time\": \"11:15\", \"departure_time\": \"11:45\", \"platform_no\": 2}\n",
    "]"
   ]
  },
  {
   "cell_type": "code",
   "execution_count": 6,
   "id": "ebcb0006",
   "metadata": {},
   "outputs": [
    {
     "name": "stdout",
     "output_type": "stream",
     "text": [
      "Maximum number of trains that can be scheduled on platforms: 3\n",
      "Trains scheduled on each platform:\n",
      "Platform 1:\n",
      "  Train 1 (10:00 - 10:30)\n",
      "  Train 3 (10:30 - 11:00)\n",
      "  Train 5 (11:00 - 11:30)\n",
      "Platform 2:\n",
      "  Train 2 (10:15 - 10:45)\n",
      "  Train 6 (11:15 - 11:45)\n",
      "Platform 3:\n",
      "  Train 4 (10:45 - 11:15)\n"
     ]
    }
   ],
   "source": [
    "from collections import defaultdict\n",
    "\n",
    "def max_trains_on_platform(trains):\n",
    "    platform_trains = defaultdict(list)\n",
    "    for train in trains:\n",
    "        platform_trains[train['platform_no']].append(train)\n",
    "    \n",
    "    platform_schedules = {}\n",
    "    max_count = 0\n",
    "    for platform, trains_list in platform_trains.items():\n",
    "        trains_list.sort(key=lambda x: x['departure_time'])\n",
    "        schedule = []\n",
    "        last_departure = \"00:00\"\n",
    "        for train in trains_list:\n",
    "            if train['arrival_time'] >= last_departure:\n",
    "                schedule.append(train)\n",
    "                last_departure = train['departure_time']\n",
    "        platform_schedules[platform] = schedule\n",
    "        max_count = max(max_count, len(schedule))\n",
    "    return max_count, platform_schedules\n",
    "\n",
    "max_trains, platform_schedules = max_trains_on_platform(trains)\n",
    "print(\"Maximum number of trains that can be scheduled on platforms:\", max_trains)\n",
    "print(\"Trains scheduled on each platform:\")\n",
    "for platform, schedule in platform_schedules.items():\n",
    "    print(f\"Platform {platform}:\")\n",
    "    for train in schedule:\n",
    "        print(f\"  Train {train['train_no']} ({train['arrival_time']} - {train['departure_time']})\")\n"
   ]
  }
 ],
 "metadata": {
  "kernelspec": {
   "display_name": ".venv (3.13.3)",
   "language": "python",
   "name": "python3"
  },
  "language_info": {
   "codemirror_mode": {
    "name": "ipython",
    "version": 3
   },
   "file_extension": ".py",
   "mimetype": "text/x-python",
   "name": "python",
   "nbconvert_exporter": "python",
   "pygments_lexer": "ipython3",
   "version": "3.13.3"
  }
 },
 "nbformat": 4,
 "nbformat_minor": 5
}
