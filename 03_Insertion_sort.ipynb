{
 "cells": [
  {
   "cell_type": "markdown",
   "id": "ff4ab94c",
   "metadata": {},
   "source": [
    "08/07/2025\n",
    "Insertion Sort"
   ]
  },
  {
   "cell_type": "code",
   "execution_count": 1,
   "id": "2458437c",
   "metadata": {},
   "outputs": [
    {
     "name": "stdout",
     "output_type": "stream",
     "text": [
      "[2, 5, 8, 4, 6]\n",
      "[2, 5, 8, 4, 6]\n",
      "[2, 4, 5, 8, 6]\n",
      "[2, 4, 5, 6, 8]\n"
     ]
    },
    {
     "data": {
      "text/plain": [
       "[2, 4, 5, 6, 8]"
      ]
     },
     "execution_count": 1,
     "metadata": {},
     "output_type": "execute_result"
    }
   ],
   "source": [
    "arr = [5, 2, 8, 4, 6]\n",
    "\n",
    "def insertion_sort(arr):\n",
    "    n = len(arr)\n",
    "    # Traverse from the second element to the end of the array\n",
    "    for i in range(1, n):\n",
    "        key = arr[i]  # Current element to be inserted into the sorted part\n",
    "        j = i - 1\n",
    "        # Move elements of arr[0..i-1], that are greater than key, to one position ahead\n",
    "        while j >= 0 and arr[j] > key:\n",
    "            arr[j + 1] = arr[j]\n",
    "            j -= 1\n",
    "        # Place the key after the element just smaller than it\n",
    "        arr[j + 1] = key\n",
    "        print(arr)  # Print the array after each insertion step\n",
    "    return(arr)\n",
    "\n",
    "insertion_sort(arr)"
   ]
  }
 ],
 "metadata": {
  "kernelspec": {
   "display_name": ".venv",
   "language": "python",
   "name": "python3"
  },
  "language_info": {
   "codemirror_mode": {
    "name": "ipython",
    "version": 3
   },
   "file_extension": ".py",
   "mimetype": "text/x-python",
   "name": "python",
   "nbconvert_exporter": "python",
   "pygments_lexer": "ipython3",
   "version": "3.13.3"
  }
 },
 "nbformat": 4,
 "nbformat_minor": 5
}
