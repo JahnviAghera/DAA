{
 "cells": [
  {
   "cell_type": "code",
   "execution_count": 13,
   "id": "bb1c027f",
   "metadata": {},
   "outputs": [],
   "source": [
    "#Define Graph\n",
    "a,b,c,d,e,f=0,1,2,3,4,5\n",
    "graph =[[a,b,2],[a,c,3],[a,d,4],[b,d,1],[b,e,5],[c,d,3],[d,e,2],[e,f,4]]\n"
   ]
  },
  {
   "cell_type": "code",
   "execution_count": 8,
   "id": "b356a18d",
   "metadata": {},
   "outputs": [],
   "source": [
    "def adjMatrix(V,G):\n",
    "    adj=[[0 for i in range(V)]for j in range(V)]\n",
    "    for i in range(len(G)):\n",
    "        adj[G[i][0]][G[i][1]]=G[i][2]\n",
    "        adj[G[i][1]][G[i][0]]=G[i][2]\n",
    "    return adj\n"
   ]
  },
  {
   "cell_type": "code",
   "execution_count": null,
   "id": "871e54ea",
   "metadata": {},
   "outputs": [],
   "source": [
    "def Prims(V,G):\n",
    "    adj = adjMatrix(V,G)\n",
    "    vertex =0\n",
    "    edges=[]\n",
    "    visited=[]\n",
    "    minedge=[None,None,float('inf')]\n",
    "\n",
    "    MST=[]\n",
    "    while(len(MST)!=V-1):\n",
    "        visited.append(vertex)\n",
    "        for ed in range(V):\n",
    "            if adj[vertex][ed]!=0 :\n",
    "                edges.append([vertex,ed,adj[vertex][ed]])\n",
    "        for ed in range(len(edges)):\n",
    "            if(edges[ed][2]<minedge[2] and edges[ed][1] not in visited):\n",
    "                minedge=edges[ed]\n",
    "        MST.append(minedge)\n",
    "        vertex=minedge[1]\n",
    "        minedge=[None,None,float('inf')]\n",
    "    return MST"
   ]
  },
  {
   "cell_type": "code",
   "execution_count": 15,
   "id": "f485cdba",
   "metadata": {},
   "outputs": [
    {
     "data": {
      "text/plain": [
       "[[0, 1, 2], [1, 3, 1], [3, 4, 2], [0, 2, 3], [4, 5, 4]]"
      ]
     },
     "execution_count": 15,
     "metadata": {},
     "output_type": "execute_result"
    }
   ],
   "source": [
    "Prims(6,graph)"
   ]
  }
 ],
 "metadata": {
  "kernelspec": {
   "display_name": ".venv (3.13.3)",
   "language": "python",
   "name": "python3"
  },
  "language_info": {
   "codemirror_mode": {
    "name": "ipython",
    "version": 3
   },
   "file_extension": ".py",
   "mimetype": "text/x-python",
   "name": "python",
   "nbconvert_exporter": "python",
   "pygments_lexer": "ipython3",
   "version": "3.13.3"
  }
 },
 "nbformat": 4,
 "nbformat_minor": 5
}
