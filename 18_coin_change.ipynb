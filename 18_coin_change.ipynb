{
 "cells": [
  {
   "cell_type": "code",
   "execution_count": 20,
   "id": "359d78cf",
   "metadata": {},
   "outputs": [],
   "source": [
    "amt = 11\n",
    "coins = [1, 5, 6, 8]"
   ]
  },
  {
   "cell_type": "code",
   "execution_count": 52,
   "id": "fcef4374",
   "metadata": {},
   "outputs": [],
   "source": [
    "def min_coins(amt, coins):\n",
    "    t = [float('inf')] * (amt + 1)\n",
    "    t[0] = 0\n",
    "    for coin in coins:\n",
    "        for j in range(coin, amt + 1):\n",
    "            t[j] = min(t[j], t[j - coin] + 1)\n",
    "    #min coins number\n",
    "    min_coins = t[amt]\n",
    "    #which coins to give\n",
    "    coins_used = []\n",
    "    if min_coins != float('inf'):\n",
    "        while amt > 0:\n",
    "            for coin in coins:\n",
    "                if amt - coin >= 0 and t[amt - coin] == t[amt] - 1:\n",
    "                    coins_used.append(coin)\n",
    "                    amt -= coin\n",
    "                    break\n",
    "    return min_coins if min_coins != float('inf') else -1, coins_used\n"
   ]
  },
  {
   "cell_type": "code",
   "execution_count": 53,
   "id": "7f50ce9f",
   "metadata": {},
   "outputs": [
    {
     "name": "stdout",
     "output_type": "stream",
     "text": [
      "Minimum coins required for 1 is 1\n",
      "Coins used: [1]\n",
      "Minimum coins required for 2 is 2\n",
      "Coins used: [1, 1]\n",
      "Minimum coins required for 3 is 3\n",
      "Coins used: [1, 1, 1]\n",
      "Minimum coins required for 4 is 4\n",
      "Coins used: [1, 1, 1, 1]\n",
      "Minimum coins required for 5 is 1\n",
      "Coins used: [5]\n",
      "Minimum coins required for 6 is 1\n",
      "Coins used: [6]\n",
      "Minimum coins required for 7 is 2\n",
      "Coins used: [1, 6]\n",
      "Minimum coins required for 8 is 1\n",
      "Coins used: [8]\n",
      "Minimum coins required for 9 is 2\n",
      "Coins used: [1, 8]\n",
      "Minimum coins required for 10 is 2\n",
      "Coins used: [5, 5]\n",
      "Minimum coins required for 11 is 2\n",
      "Coins used: [5, 6]\n"
     ]
    }
   ],
   "source": [
    "for a in range(1,amt+1):\n",
    "    min_coins(a,coins)\n",
    "    print(\"Minimum coins required for\", a, \"is\", min_coins(a,coins)[0])\n",
    "    print(\"Coins used:\", min_coins(a,coins)[1])\n"
   ]
  }
 ],
 "metadata": {
  "kernelspec": {
   "display_name": ".venv (3.13.3)",
   "language": "python",
   "name": "python3"
  },
  "language_info": {
   "codemirror_mode": {
    "name": "ipython",
    "version": 3
   },
   "file_extension": ".py",
   "mimetype": "text/x-python",
   "name": "python",
   "nbconvert_exporter": "python",
   "pygments_lexer": "ipython3",
   "version": "3.13.3"
  }
 },
 "nbformat": 4,
 "nbformat_minor": 5
}
